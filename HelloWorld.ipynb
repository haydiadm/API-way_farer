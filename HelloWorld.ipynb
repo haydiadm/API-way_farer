{
  "nbformat": 4,
  "nbformat_minor": 0,
  "metadata": {
    "colab": {
      "provenance": [],
      "collapsed_sections": [],
      "authorship_tag": "ABX9TyMaIssRVECSRNwVid3MgfpP",
      "include_colab_link": true
    },
    "kernelspec": {
      "name": "python3",
      "display_name": "Python 3"
    },
    "language_info": {
      "name": "python"
    }
  },
  "cells": [
    {
      "cell_type": "markdown",
      "metadata": {
        "id": "view-in-github",
        "colab_type": "text"
      },
      "source": [
        "<a href=\"https://colab.research.google.com/github/haydiadm/API-way_farer/blob/master/HelloWorld.ipynb\" target=\"_parent\"><img src=\"https://colab.research.google.com/assets/colab-badge.svg\" alt=\"Open In Colab\"/></a>"
      ]
    },
    {
      "cell_type": "code",
      "execution_count": 17,
      "metadata": {
        "colab": {
          "base_uri": "https://localhost:8080/"
        },
        "id": "wqkGGU0Ol2Yf",
        "outputId": "fd4a6e59-db13-4985-b0cb-efc55a4af58f"
      },
      "outputs": [
        {
          "output_type": "stream",
          "name": "stdout",
          "text": [
            "1.2\n",
            "<class 'str'>\n"
          ]
        }
      ],
      "source": [
        "x = \"1.2357\"\n",
        "y = float(x)\n",
        "z= round(y, 1)\n",
        "print(z)\n",
        "print(type(x))\n"
      ]
    }
  ]
}